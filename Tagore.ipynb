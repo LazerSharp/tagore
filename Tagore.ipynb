{
  "nbformat": 4,
  "nbformat_minor": 0,
  "metadata": {
    "colab": {
      "name": "Tagore.ipynb",
      "provenance": [],
      "collapsed_sections": []
    },
    "kernelspec": {
      "name": "python3",
      "display_name": "Python 3"
    },
    "language_info": {
      "name": "python"
    },
    "accelerator": "TPU",
    "gpuClass": "standard"
  },
  "cells": [
    {
      "cell_type": "markdown",
      "source": [
        "#Tagore\n"
      ],
      "metadata": {
        "id": "Q6DJC7H2sTF5"
      }
    },
    {
      "cell_type": "markdown",
      "source": [
        "##Download Data"
      ],
      "metadata": {
        "id": "_zU7s-0Es2ci"
      }
    },
    {
      "cell_type": "markdown",
      "source": [
        "### Upload kaggle.json"
      ],
      "metadata": {
        "id": "VU9xugkdwMBh"
      }
    },
    {
      "cell_type": "code",
      "source": [
        "# configure kaggle api\n",
        "\n",
        "#upload kaggle.json\n",
        "from google.colab import files\n",
        "files.upload()\n"
      ],
      "metadata": {
        "id": "c5yBPZlvlCya"
      },
      "execution_count": null,
      "outputs": []
    },
    {
      "cell_type": "markdown",
      "source": [
        "### Download and extract data"
      ],
      "metadata": {
        "id": "Y8nCQ7G-wRok"
      }
    },
    {
      "cell_type": "code",
      "source": [
        "!mkdir -p ~/.kaggle/\n",
        "!cp kaggle.json ~/.kaggle/\n",
        "!chmod 600 ~/.kaggle/kaggle.json\n",
        "!kaggle datasets download -d nrkapri/rabindranath-tagore-online-variorum\n",
        "!unzip rabindranath-tagore-online-variorum.zip -d tagore"
      ],
      "metadata": {
        "id": "TSH6uz3jlYMv",
        "colab": {
          "base_uri": "https://localhost:8080/"
        },
        "outputId": "ad3fad77-00b2-4ec4-e927-725371e6ba00"
      },
      "execution_count": null,
      "outputs": [
        {
          "output_type": "stream",
          "name": "stdout",
          "text": [
            "Downloading rabindranath-tagore-online-variorum.zip to /content\n",
            " 92% 159M/173M [00:01<00:00, 163MB/s]\n",
            "100% 173M/173M [00:01<00:00, 165MB/s]\n",
            "Archive:  rabindranath-tagore-online-variorum.zip\n",
            "  inflating: tagore/bangla_drama_all.txt  \n",
            "  inflating: tagore/bangla_fiction_all.txt  \n",
            "  inflating: tagore/bangla_non_fiction_all.txt  \n",
            "  inflating: tagore/bangla_poems_and_songs_all.txt  \n",
            "  inflating: tagore/tagore_poem_gen.h5  \n"
          ]
        }
      ]
    },
    {
      "cell_type": "markdown",
      "source": [
        "### Show Data"
      ],
      "metadata": {
        "id": "IYhOTCxqwbCc"
      }
    },
    {
      "cell_type": "code",
      "source": [
        "!head -30 tagore/bangla_fiction_all.txt"
      ],
      "metadata": {
        "id": "X1u2U50XmT25",
        "colab": {
          "base_uri": "https://localhost:8080/"
        },
        "outputId": "85d1fd64-ac13-43be-a67e-b1936b684c05"
      },
      "execution_count": null,
      "outputs": [
        {
          "output_type": "stream",
          "name": "stdout",
          "text": [
            "জ্যাঠামশায়\n",
            "(১)\n",
            "আমি পাড়াগাঁ হইতে কলিকাতায় আসিয়া কালেজে প্রবেশ করিলাম। শচীশ তখন বি এ ক্লাসে পড়িতেছে। আমাদের বয়স প্রায় সমান হইবে।\n",
            "শচীশকে দেখিলে মনে হয় যেন একটা জ্যোতিষ্ক— তার চোখ জ্বলিতেছে; তার লম্বা সরু আঙুলগুলি যেন আগুনের শিখা; তার গায়ের রং যেন রং নহে তাহা আভা। শচীশকে যখন দেখিলাম অমনি যেন তার অন্তরাত্মাকে দেখিতে পাইলাম;— তাই একমুহূর্ত্তে তাহাকে ভালোবাসিলাম।\n",
            "কিন্তু আশ্চর্য্য এই যে শচীশের সঙ্গে যারা পড়ে তাদের অনেকেরই তার উপরে একটা বিষম বিদ্বেষ। আসল কথা, যাহারা দশের মত, বিনাকারণে দশের সঙ্গে তাহাদের বিরোধ বাধে না। কিন্তু মানুষের ভিতরকার দীপ্যমান সত্যপুরুষটি স্থুলতা ভেদ করিয়া যখন দেখা দেয় তখন অকারণে কেহবা তাহাকে প্রাণপণে পূজা করে আবার অকারণে কেহবা তাহাকে প্রাণপণে অপমান করিয়া থাকে।\n",
            "আমার মেসের ছেলেরা বুঝিয়াছিল আমি শচীশকে মনে মনে ভক্তি করি। এটাতে সর্ব্বদাই তাহাদের যেন আরামের ব্যাঘাত করিত। তাই আমাকে শুনাইয়া শচীশের সম্বন্ধে কটুকথা বলিতে তাহাদের একদিনও কামাই যাইতনা। আমি জানিতাম চোখে বালি পড়িলে রগড়াইতে গেলেই বাজে বেশি— কথাগুলো যেখানে কর্কশ সেখানে জবাব না করাই ভালো। কিন্তু একদিন শচীশের চরিত্রের উপর লক্ষ্য করিয়া এমন সব কুত্সা উঠিল আমি চুপ করিয়া থাকিতে পারিলামনা।\n",
            "আমার মুষ্কিল, আমি শচীশকে জানিতামনা। অপরপক্ষে কেহবা তার পাড়াপড়শি, কেহবা তার কোনো একটা সম্পর্কে কিছু একটা। তারা খুব তেজের সঙ্গে বলিল, এ একেবারে খাঁটি সত্য; আমি আরো তেজের সঙ্গে বলিলাম, আমি এর শিকি পয়সা বিশ্বাস করি না।— তখন মেস্‌সুদ্ধ সকলে আস্তিন গুটাইয়া বলিয়া উঠিল— তুমি ত ভারি অভদ্র লোক হে!\n",
            "সে রাত্রে বিছানায় শুইয়া আমার কান্না আসিল। পরদিন ক্লাসের একটা ফাঁকে শচীশ যখন গোলদিঘির ছায়ায় ঘাসের উপর আধ-শোওয়া অবস্থায় একটা বই পড়িতেছে আমি বিনাপরিচয়ে তার কাছে আবোল-তাবোল কি যে বকিলাম তার ঠিক নাই। শচীশ বই মুড়িয়া আমার মুখের দিকে কিছুক্ষণ চাহিয়া রহিল। তার চোখ যারা দেখে নাই তারা বুঝিবে না এই দৃষ্টি যে কি।\n",
            "শচীশ বলিল, যারা নিন্দা করে তারা নিন্দা ভালোবাসে বলিয়াই করে, সত্য ভালোবাসে বলিয়া নয়। তাই যদি হইল তবে কোনো একটা নিন্দা যে সত্য নয় তাহা প্রমাণ করিবার জন্য ছটফট করিয়া লাভ কি?\n",
            "আমি বলিলাম, তবু দেখুন্‌ মিথ্যাবাদীকে—\n",
            "শচীশ বাধা দিয়া বলিল— ওরা ত মিথ্যাবাদী নয়। আমাদের পাড়ায় পক্ষাঘাতে একজন কলুর ছেলের গা হাত কাঁপে, সে কাজ করিতে পারেনা। শীতের দিনে আমি তাকে একটা দামী কম্বল দিয়াছিলাম। সেইদিন আমার চাকর শিবু রাগে গরগর করিতে করিতে আসিয়া বলিল, বাবু, ও বেটার কাঁপুনিটাঁপুনি সমস্ত বদমায়েসি।— আমার মধ্যে কিছু ভালো আছে এ কথা যারা উড়াইয়া দেয় তাদের সেই শিবুর দশা— তারা যা বলে তা সত্যই বিশ্বাস করে। আমার ভাগ্যে একটা কোনো দামী কম্বল অতিরিক্ত জুটিয়াছিল রাজ্যসুদ্ধ শিবুর দল নিশ্চয় স্থির করিয়াছে সেটাতে আমার অধিকার নাই— আমি তা লইয়া তাদের সঙ্গে ঝগড়া করিতে লজ্জা বোধ করি।\n",
            "ইহার কোনো উত্তর না দিয়া আমি বলিয়া উঠিলাম, এরা যে বলে আপনি নাস্তিক সে কি সত্য?\n",
            "শচীশ বলিল, হাঁ, আমি নাস্তিক।\n",
            "আমার মাথা নীচু হইয়া গেল। আমি মেসের লোকের সঙ্গে ঝগড়া করিয়াছিলাম যে শচীশ কখনই নাস্তিক হইতে পারে না।\n",
            "শচীশ সম্বন্ধে গোড়াতেই আমি দুইটা মস্ত ঘা খাইয়াছি। আমি তাহাকে দেখিয়াই মনে করিয়াছিলাম সে ব্রাহ্মণের ছেলে। মুখখানি যে দেবমূর্ত্তির মত শাদা পাথরে কোঁদা। তার উপাধি শুনিয়াছিলাম মল্লিক; আমাদেরও গাঁয়ে মল্লিক উপাধিধারী একঘর কুলীন ব্রাহ্মণ আছে। কিন্তু জানিয়াছি শচীশ সোনার বেনে। আমাদের নিষ্ঠাবান কায়স্থের ঘর— জাতিহিসাবে সোনার বেনেকে অন্তরের সঙ্গে ঘৃণা করিয়া থাকি। আর নাস্তিককে নর চেয়ে— এমন কি, গোখাদকের চেয়েও, পাপিষ্ঠ বলিয়া জানিতাম।\n",
            "কোনো কথা না বলিয়া শচীশের মুখের দিয়ে চাহিয়া রহিলাম। তখনো দেখিলাম মুখে সেই জ্যোতি— যেন অন্তরের মধ্যে পূজার প্রদীপ জ্বলিতেছে।\n",
            "কেহ কোনোদিন মনে করিতে পারিত না আমি কোনোজন্মে সোনার বেনের সঙ্গে একসঙ্গে আহার করিব এবং নাস্তিকে আমার গোঁড়ামি আমার গুরুকে ছাড়াইয়া উঠিবে,— ক্রমে আমার ভাগ্যে তাও ঘটিল।\n",
            "ছাত্রেরা রাগ করিয়া বলিত শচীশকে সাহেব যে এত পছন্দ করে তার কারণ ওর গায়ের রং কটা আর ও সাহেবের মন ভোলাইবার জন্য নাস্তিকতা ফলাইয়া থাকে। তাহাদের মধ্যে কোনো কোনো বুদ্ধিমান আড়ম্বর করিয়া সাহেবের কাছ হইতে পজিটিভিজ্‌ম সম্বন্ধে বই ধার চাহিতে গিয়াছিল— সাহেব বলিয়াছিলেন, তোমরা বুঝিবে না। তারা যে নাস্তিকতাচর্চ্চারও অযোগ্য এই কথায় নাস্তিকতা এবং শচীশের বিরুদ্ধে তাহাদের ক্ষোভ কেবল বাড়িয়া উঠিতেছিল।\n",
            "\n",
            "(২)\n",
            "জগমোহন শচীশের জ্যাঠা। তিনি তখনকার কালের নামজাদা নাস্তিক। তিনি ঈশ্বরে অবিশ্বাস করিতেন বলিলে কম বলা হয়— তিনি না-ঈশ্বরে বিশ্বাস করিতেন। যুদ্ধজাহাজের কাপ্তেনের যেমন জাহাজ চালানোর চেয়ে জাহাজ— ডোবানোই বড় ব্যবসা, তেমনি যেখানে সুবিধা সেইখানেই আস্তিক্যধর্ম্মকে ডুবাইয়া দেওয়াই জগমোহনের ধর্ম্ম ছিল। ঈশ্বর-বিশ্বাসীর সঙ্গে তিনি এইপদ্ধতিতে তর্ক করিতেন:—\n",
            "ঈশ্বর যদি থাকেন তবে আমার বুদ্ধি তাঁরই দেওয়া;—\n",
            "সেই বুদ্ধি বলিতেছে যে, ঈশ্বর নাই;—\n",
            "অতএব ঈশ্বর বলিতেছেন যে ঈশ্বর নাই;\n",
            "অথচ তোমরা তাঁর মুখের উপর জবাব দিয়া বলিতেছ যে ঈশ্বর আছেন। এই পাপের শাস্তিস্বরূপে তেত্রিশ কোটি দেবতা তোমাদের দুই কান ধরিয়া জরিমানা আদায় করিতেছে।\n",
            "বালক বয়সে জগমোহনের বিবাহ হইয়াছিল। যৌবনকালে যখন তাঁর স্ত্রী মারা যান তার পূর্ব্বেই তিনি ম্যালথস্‌ পড়িয়াছিলেন; আর বিবাহ করেন নাই।\n",
            "তাঁর ছোট ভাই হরিমোহন ছিলেন শচীশের পিতা। তিনি তাঁর বড় ভাইয়ের এম্‌নি উল্টা প্রকৃতির যে সে কথা লিখিতে গেলে গল্প সাজানো বলিয়া লোকে সন্দেহ করিবে। কিন্তু গল্পই লোকের বিশ্বাস কাড়িবার জন্য সাবধান হইয়া চলে, সত্যের সে দায় নাই বলিয়া সত্য অদ্ভুত হইতে ভয় করেনা। তাই সকাল এবং বিকাল যেমন বিপরীত, সংসারে বড় ভাই এবং ছোট ভাই তেমনি বিপরীত, এমন দৃষ্টান্তের অভাব নাই।\n",
            "হরিমোহন শিশুকালে অসুস্থ ছিলেন। তাগাতাবিজ, শান্তিস্বস্ত্যয়ন, সন্ন্যাসীর জটা-নিংড়ানো জল, বিশেষ বিশেষ পীঠস্থানের ধূলা, অনেক জাগ্রত ঠাকুরের প্রসাদ ও চরণামৃত, গুরুপুরোহিতের অনেক টাকার আশীর্ব্বাদে তাঁকে যেন সকল অকল্যাণ হইতে গড়বন্দী করিয়া রাখা হইয়াছিল।\n",
            "বড়বয়সে তাঁর আর ব্যামো ছিল না কিন্তু তিনি যে বড়ই কাহিল সংসার হইতে এ সংস্কার ঘুচিল না। কোনোক্রমে তিনি বাঁচিয়া থাকুন, এর বেশি তাঁর কাছে কেহ কিছু দাবী করিতনা। তিনিও এ সম্বন্ধে কাহাকেও নিরাশ করিলেন না, দিব্য বাঁচিয়া রহিলেন। কিন্তু শরীরটা যেন গেল-গেল এই ভাব করিয়া সকলকে শাসাইয়া রাখিলেন। বিশেষত তাঁর পিতার অল্পবয়সে মৃত্যুর নজিরের জোরে মা-মাসির সমস্ত সেবা যত্ন তিনি নিজের দিকে টানিয়া লইলেন। সকলের আগে তাঁর আহার, সকলের হইতে তাঁর আহারের আয়োজন স্বতন্ত্র, সকলের চেয়ে তাঁর কাজ কম, সকলের চেয়ে তাঁর বিশ্রাম বেশি। কেবল মা-মাসির নয় তিনি যে তিন ভুবনের সমস্ত ঠাকুরদেবতার বিশেষ জিম্মায় এ তিনি কখনো ভুলিতেন না। কেবল ঠাকুর দেবতা নয়, সংসারে যেখানে যার কাছে যে পরিমাণে সুবিধা পাওয়া যায় তাকে তিনি সেই পরিমাণেই মানিয়া চলিতেন— থানার দারোগা, ধনী প্রতিবেশী, উচ্চ পদের রাজপুরুষ, খবরের কাগজের সম্পাদক, সকলকেই যথোচিত ভয় ভক্তি করিতেন,— গো ব্রাহ্মণের ত কথাই নাই।\n",
            "জগমোহনের ভয় ছিল উল্টা দিকে। কারো কাছে তিনি লেশমাত্র সুবিধা প্রত্যাশা করেন এমন সন্দেহমাত্র পাছে কারো মনে আসে এই ভয়ে ক্ষমতাশালী লোকদিগকে তিনি দূরে রাখিয়া চলিতেন। তিনি যে দেবতা মানিতেন না তার মধ্যেও তাঁর ঐ ভাবটা ছিল। লৌকিক বা অলৌকিক কোনো শক্তির কাছে তিনি হাত জোড় করিতে নারাজ।\n"
          ]
        }
      ]
    },
    {
      "cell_type": "markdown",
      "source": [
        "## Import Packages"
      ],
      "metadata": {
        "id": "Q9JTdLszw6Sj"
      }
    },
    {
      "cell_type": "code",
      "source": [
        "import tensorflow as tf\n",
        "from tensorflow.keras.preprocessing.text import Tokenizer\n",
        "from tensorflow.keras.preprocessing.sequence import pad_sequences \n",
        "import numpy as np\n",
        "import matplotlib.pyplot as plt\n",
        "%matplotlib inline\n",
        "print(tf.__version__)"
      ],
      "metadata": {
        "colab": {
          "base_uri": "https://localhost:8080/"
        },
        "id": "7QBEVsRfmeiD",
        "outputId": "0847a1d7-4807-4649-a91e-dd11996dcda8"
      },
      "execution_count": null,
      "outputs": [
        {
          "output_type": "stream",
          "name": "stdout",
          "text": [
            "2.8.2\n"
          ]
        }
      ]
    },
    {
      "cell_type": "markdown",
      "source": [
        "## Constants"
      ],
      "metadata": {
        "id": "77YWTTQZ6sSC"
      }
    },
    {
      "cell_type": "code",
      "source": [
        "MIN_WORDS = 2 # minimum words in a sentence\n",
        "MAX_WORDS = 50\n",
        "SHUFFLE_BUFFER_SIZE = 1000\n",
        "BATCH_SIZE = 1024\n",
        "EMBEDDING_OUTPUT_SIZE = 128"
      ],
      "metadata": {
        "id": "GPn8qIDz6wfk"
      },
      "execution_count": null,
      "outputs": []
    },
    {
      "cell_type": "markdown",
      "source": [
        "## Process Data"
      ],
      "metadata": {
        "id": "l4AwJzkvxJLm"
      }
    },
    {
      "cell_type": "markdown",
      "source": [
        "### Tokenize"
      ],
      "metadata": {
        "id": "42T2nPalxeuI"
      }
    },
    {
      "cell_type": "code",
      "source": [
        "# read fictions\n",
        "with open('tagore/bangla_fiction_all.txt') as file:\n",
        "  lines = file.readlines()\n",
        "tokenizer = Tokenizer(filters='!\"#$%&()*+,-./:;<=>?@[\\\\]^_`{|}~\\t\\n”।—“')\n",
        "tokenizer.fit_on_texts(lines)\n",
        "tokenizer.word_index\n",
        "print(len(tokenizer.word_index))\n",
        "sequences = tokenizer.texts_to_sequences(lines)\n",
        "sequences = [s[:MAX_WORDS] for s in sequences if len(s) >= MIN_WORDS]"
      ],
      "metadata": {
        "id": "RFxFuH0AoKel",
        "colab": {
          "base_uri": "https://localhost:8080/"
        },
        "outputId": "9364413b-b8a9-41c6-d153-18d4982fe815"
      },
      "execution_count": null,
      "outputs": [
        {
          "output_type": "stream",
          "name": "stdout",
          "text": [
            "91635\n"
          ]
        }
      ]
    },
    {
      "cell_type": "markdown",
      "source": [
        "### Visualize"
      ],
      "metadata": {
        "id": "kD6TAtRmyObu"
      }
    },
    {
      "cell_type": "code",
      "source": [
        "line_lens = np.array([len(s) for s in sequences])\n",
        "plt.hist(line_lens, bins=2000)\n",
        "plt.show()"
      ],
      "metadata": {
        "colab": {
          "base_uri": "https://localhost:8080/",
          "height": 265
        },
        "id": "BeyMDIxt203O",
        "outputId": "c8481283-4827-4304-e15b-6b420215d411"
      },
      "execution_count": null,
      "outputs": [
        {
          "output_type": "display_data",
          "data": {
            "text/plain": [
              "<Figure size 432x288 with 1 Axes>"
            ],
            "image/png": "[encoded data removed]"
          },
          "metadata": {
            "needs_background": "light"
          }
        }
      ]
    },
    {
      "cell_type": "markdown",
      "source": [
        "### N-Grams"
      ],
      "metadata": {
        "id": "_cYSxKs80BDz"
      }
    },
    {
      "cell_type": "code",
      "source": [
        "def n_grams(sequence):\n",
        "  seqs = []\n",
        "  for i in range(1, len(sequence)):\n",
        "    seqs.append(sequence[:i+1])\n",
        "\n",
        "  return seqs\n",
        "print(n_grams([0,1,2,3,4]))\n",
        "\n",
        "ng_sequences = [ng for seq in sequences for ng in n_grams(seq)]\n"
      ],
      "metadata": {
        "colab": {
          "base_uri": "https://localhost:8080/"
        },
        "id": "-4NB3k-O0FJ4",
        "outputId": "cd954195-929a-4437-f807-e1e98d471d6e"
      },
      "execution_count": null,
      "outputs": [
        {
          "output_type": "stream",
          "name": "stdout",
          "text": [
            "[[0, 1], [0, 1, 2], [0, 1, 2, 3], [0, 1, 2, 3, 4]]\n"
          ]
        }
      ]
    },
    {
      "cell_type": "code",
      "source": [
        "ng_sequences[:10]"
      ],
      "metadata": {
        "colab": {
          "base_uri": "https://localhost:8080/"
        },
        "id": "jAc7-uoO6DTF",
        "outputId": "ca09388b-8d38-4a0d-cb9e-99b50f113626"
      },
      "execution_count": null,
      "outputs": [
        {
          "output_type": "execute_result",
          "data": {
            "text/plain": [
              "[[5, 34938],\n",
              " [5, 34938, 18],\n",
              " [5, 34938, 18, 890],\n",
              " [5, 34938, 18, 890, 71],\n",
              " [5, 34938, 18, 890, 71, 3797],\n",
              " [5, 34938, 18, 890, 71, 3797, 189],\n",
              " [5, 34938, 18, 890, 71, 3797, 189, 657],\n",
              " [5, 34938, 18, 890, 71, 3797, 189, 657, 683],\n",
              " [5, 34938, 18, 890, 71, 3797, 189, 657, 683, 36],\n",
              " [5, 34938, 18, 890, 71, 3797, 189, 657, 683, 36, 2247]]"
            ]
          },
          "metadata": {},
          "execution_count": 9
        }
      ]
    },
    {
      "cell_type": "markdown",
      "source": [
        "### Padding"
      ],
      "metadata": {
        "id": "y6H2KB9mz6jR"
      }
    },
    {
      "cell_type": "code",
      "source": [
        "padded_sequences = pad_sequences(ng_sequences, maxlen=MAX_WORDS)"
      ],
      "metadata": {
        "id": "jEbC1nzMteSU"
      },
      "execution_count": null,
      "outputs": []
    },
    {
      "cell_type": "code",
      "source": [
        "tokenizer.sequences_to_texts(padded_sequences[:15, :])"
      ],
      "metadata": {
        "colab": {
          "base_uri": "https://localhost:8080/"
        },
        "id": "dyx9huzc1-2M",
        "outputId": "b36f3c77-6e1c-42bc-8cb1-6a1f57d22826"
      },
      "execution_count": null,
      "outputs": [
        {
          "output_type": "execute_result",
          "data": {
            "text/plain": [
              "['আমি পাড়াগাঁ',\n",
              " 'আমি পাড়াগাঁ হইতে',\n",
              " 'আমি পাড়াগাঁ হইতে কলিকাতায়',\n",
              " 'আমি পাড়াগাঁ হইতে কলিকাতায় আসিয়া',\n",
              " 'আমি পাড়াগাঁ হইতে কলিকাতায় আসিয়া কালেজে',\n",
              " 'আমি পাড়াগাঁ হইতে কলিকাতায় আসিয়া কালেজে প্রবেশ',\n",
              " 'আমি পাড়াগাঁ হইতে কলিকাতায় আসিয়া কালেজে প্রবেশ করিলাম',\n",
              " 'আমি পাড়াগাঁ হইতে কলিকাতায় আসিয়া কালেজে প্রবেশ করিলাম শচীশ',\n",
              " 'আমি পাড়াগাঁ হইতে কলিকাতায় আসিয়া কালেজে প্রবেশ করিলাম শচীশ তখন',\n",
              " 'আমি পাড়াগাঁ হইতে কলিকাতায় আসিয়া কালেজে প্রবেশ করিলাম শচীশ তখন বি',\n",
              " 'আমি পাড়াগাঁ হইতে কলিকাতায় আসিয়া কালেজে প্রবেশ করিলাম শচীশ তখন বি এ',\n",
              " 'আমি পাড়াগাঁ হইতে কলিকাতায় আসিয়া কালেজে প্রবেশ করিলাম শচীশ তখন বি এ ক্লাসে',\n",
              " 'আমি পাড়াগাঁ হইতে কলিকাতায় আসিয়া কালেজে প্রবেশ করিলাম শচীশ তখন বি এ ক্লাসে পড়িতেছে',\n",
              " 'আমি পাড়াগাঁ হইতে কলিকাতায় আসিয়া কালেজে প্রবেশ করিলাম শচীশ তখন বি এ ক্লাসে পড়িতেছে আমাদের',\n",
              " 'আমি পাড়াগাঁ হইতে কলিকাতায় আসিয়া কালেজে প্রবেশ করিলাম শচীশ তখন বি এ ক্লাসে পড়িতেছে আমাদের বয়স']"
            ]
          },
          "metadata": {},
          "execution_count": 11
        }
      ]
    },
    {
      "cell_type": "code",
      "source": [
        "padded_sequences.shape"
      ],
      "metadata": {
        "id": "4_Py02Uw8lxH",
        "colab": {
          "base_uri": "https://localhost:8080/"
        },
        "outputId": "807c8482-95ff-4399-9ba7-4bace3457791"
      },
      "execution_count": null,
      "outputs": [
        {
          "output_type": "execute_result",
          "data": {
            "text/plain": [
              "(3037299, 50)"
            ]
          },
          "metadata": {},
          "execution_count": 12
        }
      ]
    },
    {
      "cell_type": "markdown",
      "source": [
        "### Prepare traing Dataset"
      ],
      "metadata": {
        "id": "BwNFooma99LY"
      }
    },
    {
      "cell_type": "code",
      "source": [
        "train_x_np = padded_sequences[:, : MAX_WORDS - 1]\n",
        "train_y_np = padded_sequences[:, MAX_WORDS - 1 :]\n",
        "print(f'Type of x {type(train_x_np)}, type of y {type(train_y_np)}')\n",
        "print(f'shape of x {train_x_np.shape}, shape of y {train_y_np.shape}')"
      ],
      "metadata": {
        "colab": {
          "base_uri": "https://localhost:8080/"
        },
        "id": "9NWKYaMw8Umq",
        "outputId": "35709875-7acd-4960-cf9b-c63c1a8451e0"
      },
      "execution_count": null,
      "outputs": [
        {
          "output_type": "stream",
          "name": "stdout",
          "text": [
            "Type of x <class 'numpy.ndarray'>, type of y <class 'numpy.ndarray'>\n",
            "shape of x (3037299, 49), shape of y (3037299, 1)\n"
          ]
        }
      ]
    },
    {
      "cell_type": "code",
      "source": [
        "train_dataset = tf.data.Dataset.from_tensor_slices((train_x_np, train_y_np))\n",
        "train_dataset = train_dataset.shuffle(SHUFFLE_BUFFER_SIZE).batch(BATCH_SIZE)\n",
        "for x, y in train_dataset.take(1):\n",
        "  print(x.shape ,'->', y.shape)"
      ],
      "metadata": {
        "colab": {
          "base_uri": "https://localhost:8080/"
        },
        "id": "iMBvM8zQoggE",
        "outputId": "da0b5b7c-c851-4cec-acce-89bd04094d71"
      },
      "execution_count": null,
      "outputs": [
        {
          "output_type": "stream",
          "name": "stdout",
          "text": [
            "(1024, 49) -> (1024, 1)\n"
          ]
        }
      ]
    },
    {
      "cell_type": "markdown",
      "source": [
        "## Training"
      ],
      "metadata": {
        "id": "7FRBWbuY-SyR"
      }
    },
    {
      "cell_type": "code",
      "source": [
        "# Model\n",
        "num_words = len(tokenizer.word_index) + 1 # 91636\n",
        "print(f'num_words = {num_words}')\n",
        "# Layers\n",
        "\n",
        "input = tf.keras.Input(shape=(49,))\n",
        "x = tf.keras.layers.Embedding(num_words, EMBEDDING_OUTPUT_SIZE)(input)\n",
        "x = tf.keras.layers.LSTM(EMBEDDING_OUTPUT_SIZE, activation='relu', return_sequences=True)(x)\n",
        "x = tf.keras.layers.LSTM(EMBEDDING_OUTPUT_SIZE, activation='relu')(x)\n",
        "x = tf.keras.layers.Dense(num_words, activation='softmax')(x)\n",
        "\n",
        "model = tf.keras.Model(inputs = input, outputs = x)\n",
        "model.compile(\n",
        "    loss='sparse_categorical_crossentropy', \n",
        "    optimizer='adam', \n",
        "    metrics=['acc'])\n",
        "\n",
        "#model.compile()"
      ],
      "metadata": {
        "id": "VhexGKeH82qN",
        "colab": {
          "base_uri": "https://localhost:8080/"
        },
        "outputId": "f45ca8ee-abc2-4708-b461-224c543d789c"
      },
      "execution_count": null,
      "outputs": [
        {
          "output_type": "stream",
          "name": "stdout",
          "text": [
            "num_words = 91636\n",
            "WARNING:tensorflow:Layer lstm will not use cuDNN kernels since it doesn't meet the criteria. It will use a generic GPU kernel as fallback when running on GPU.\n",
            "WARNING:tensorflow:Layer lstm_1 will not use cuDNN kernels since it doesn't meet the criteria. It will use a generic GPU kernel as fallback when running on GPU.\n"
          ]
        }
      ]
    },
    {
      "cell_type": "code",
      "source": [
        "model.summary()"
      ],
      "metadata": {
        "colab": {
          "base_uri": "https://localhost:8080/"
        },
        "id": "r6lgurOCwNa8",
        "outputId": "e91ff811-109f-456c-b6a7-3bb55610a6f1"
      },
      "execution_count": null,
      "outputs": [
        {
          "output_type": "stream",
          "name": "stdout",
          "text": [
            "Model: \"model\"\n",
            "_________________________________________________________________\n",
            " Layer (type)                Output Shape              Param #   \n",
            "=================================================================\n",
            " input_1 (InputLayer)        [(None, 49)]              0         \n",
            "                                                                 \n",
            " embedding (Embedding)       (None, 49, 128)           11729408  \n",
            "                                                                 \n",
            " lstm (LSTM)                 (None, 49, 128)           131584    \n",
            "                                                                 \n",
            " lstm_1 (LSTM)               (None, 128)               131584    \n",
            "                                                                 \n",
            " dense (Dense)               (None, 91636)             11821044  \n",
            "                                                                 \n",
            "=================================================================\n",
            "Total params: 23,813,620\n",
            "Trainable params: 23,813,620\n",
            "Non-trainable params: 0\n",
            "_________________________________________________________________\n"
          ]
        }
      ]
    },
    {
      "cell_type": "code",
      "source": [
        "train_dataset.cardinality().numpy()"
      ],
      "metadata": {
        "colab": {
          "base_uri": "https://localhost:8080/"
        },
        "id": "LXFubRvILKu7",
        "outputId": "dcd96424-e6c7-44c7-8a34-0fbb28f894b1"
      },
      "execution_count": null,
      "outputs": [
        {
          "output_type": "execute_result",
          "data": {
            "text/plain": [
              "2967"
            ]
          },
          "metadata": {},
          "execution_count": 17
        }
      ]
    },
    {
      "cell_type": "code",
      "source": [
        "model.fit(train_dataset, epochs=10)"
      ],
      "metadata": {
        "colab": {
          "base_uri": "https://localhost:8080/"
        },
        "id": "_mLr2KogLyM7",
        "outputId": "6d96dd29-33e7-4f03-b848-c6e9e34e4c21"
      },
      "execution_count": null,
      "outputs": [
        {
          "output_type": "stream",
          "name": "stdout",
          "text": [
            "Epoch 1/10\n",
            "2967/2967 [==============================] - 918s 307ms/step - loss: 8.1433 - acc: 0.0236\n",
            "Epoch 2/10\n",
            "2967/2967 [==============================] - 900s 303ms/step - loss: 7.2529 - acc: 0.0518\n",
            "Epoch 3/10\n",
            "2967/2967 [==============================] - 898s 303ms/step - loss: 6.6594 - acc: 0.0782\n",
            "Epoch 4/10\n",
            "2967/2967 [==============================] - 897s 302ms/step - loss: 6.1631 - acc: 0.0975\n",
            "Epoch 5/10\n",
            "2967/2967 [==============================] - 901s 303ms/step - loss: 5.7286 - acc: 0.1173\n",
            "Epoch 6/10\n",
            "2967/2967 [==============================] - 916s 309ms/step - loss: 5.3161 - acc: 0.1453\n",
            "Epoch 7/10\n",
            "2967/2967 [==============================] - 912s 307ms/step - loss: 4.9424 - acc: 0.1811\n",
            "Epoch 8/10\n",
            "2967/2967 [==============================] - 897s 302ms/step - loss: 4.6266 - acc: 0.2154\n",
            "Epoch 9/10\n",
            "2967/2967 [==============================] - 906s 305ms/step - loss: 4.3668 - acc: 0.2460\n",
            "Epoch 10/10\n",
            "2967/2967 [==============================] - 899s 303ms/step - loss: 4.1364 - acc: 0.2744\n"
          ]
        },
        {
          "output_type": "execute_result",
          "data": {
            "text/plain": [
              "<keras.callbacks.History at 0x7fb7de9932d0>"
            ]
          },
          "metadata": {},
          "execution_count": 18
        }
      ]
    },
    {
      "cell_type": "code",
      "source": [
        "#Save Model\n",
        "model.save('tagore_model-10')"
      ],
      "metadata": {
        "colab": {
          "base_uri": "https://localhost:8080/"
        },
        "id": "ZsBqwCwELWvf",
        "outputId": "380c6518-205f-431e-b585-9328a4e38596"
      },
      "execution_count": null,
      "outputs": [
        {
          "output_type": "stream",
          "name": "stdout",
          "text": [
            "INFO:tensorflow:Assets written to: tagore_model-10/assets\n"
          ]
        },
        {
          "output_type": "stream",
          "name": "stderr",
          "text": [
            "WARNING:absl:<keras.layers.recurrent.LSTMCell object at 0x7fb7a004dd90> has the same name 'LSTMCell' as a built-in Keras object. Consider renaming <class 'keras.layers.recurrent.LSTMCell'> to avoid naming conflicts when loading with `tf.keras.models.load_model`. If renaming is not possible, pass the object in the `custom_objects` parameter of the load function.\n",
            "WARNING:absl:<keras.layers.recurrent.LSTMCell object at 0x7fb7302e3fd0> has the same name 'LSTMCell' as a built-in Keras object. Consider renaming <class 'keras.layers.recurrent.LSTMCell'> to avoid naming conflicts when loading with `tf.keras.models.load_model`. If renaming is not possible, pass the object in the `custom_objects` parameter of the load function.\n"
          ]
        }
      ]
    },
    {
      "cell_type": "code",
      "source": [
        "!zip -r tagore-model-10.zip /content/tagore_model-10"
      ],
      "metadata": {
        "colab": {
          "base_uri": "https://localhost:8080/"
        },
        "id": "1yuvqHYhSIrW",
        "outputId": "af68424e-e36c-47e2-8c2b-85aadf743229"
      },
      "execution_count": null,
      "outputs": [
        {
          "output_type": "stream",
          "name": "stdout",
          "text": [
            "  adding: content/tagore_model-10/ (stored 0%)\n",
            "  adding: content/tagore_model-10/assets/ (stored 0%)\n",
            "  adding: content/tagore_model-10/variables/ (stored 0%)\n",
            "  adding: content/tagore_model-10/variables/variables.index (deflated 67%)\n",
            "  adding: content/tagore_model-10/variables/variables.data-00000-of-00001 (deflated 20%)\n",
            "  adding: content/tagore_model-10/saved_model.pb (deflated 90%)\n",
            "  adding: content/tagore_model-10/keras_metadata.pb (deflated 89%)\n"
          ]
        }
      ]
    },
    {
      "cell_type": "code",
      "source": [
        "files.download('/content/tagore-model-10.zip')"
      ],
      "metadata": {
        "colab": {
          "base_uri": "https://localhost:8080/",
          "height": 34
        },
        "id": "LYipVWsiaAi6",
        "outputId": "dba34145-319b-4526-cdb8-0e4681631908"
      },
      "execution_count": null,
      "outputs": [
        {
          "output_type": "display_data",
          "data": {
            "text/plain": [
              "<IPython.core.display.Javascript object>"
            ],
            "application/javascript": [
              "\n",
              "    async function download(id, filename, size) {\n",
              "      if (!google.colab.kernel.accessAllowed) {\n",
              "        return;\n",
              "      }\n",
              "      const div = document.createElement('div');\n",
              "      const label = document.createElement('label');\n",
              "      label.textContent = `Downloading \"${filename}\": `;\n",
              "      div.appendChild(label);\n",
              "      const progress = document.createElement('progress');\n",
              "      progress.max = size;\n",
              "      div.appendChild(progress);\n",
              "      document.body.appendChild(div);\n",
              "\n",
              "      const buffers = [];\n",
              "      let downloaded = 0;\n",
              "\n",
              "      const channel = await google.colab.kernel.comms.open(id);\n",
              "      // Send a message to notify the kernel that we're ready.\n",
              "      channel.send({})\n",
              "\n",
              "      for await (const message of channel.messages) {\n",
              "        // Send a message to notify the kernel that we're ready.\n",
              "        channel.send({})\n",
              "        if (message.buffers) {\n",
              "          for (const buffer of message.buffers) {\n",
              "            buffers.push(buffer);\n",
              "            downloaded += buffer.byteLength;\n",
              "            progress.value = downloaded;\n",
              "          }\n",
              "        }\n",
              "      }\n",
              "      const blob = new Blob(buffers, {type: 'application/binary'});\n",
              "      const a = document.createElement('a');\n",
              "      a.href = window.URL.createObjectURL(blob);\n",
              "      a.download = filename;\n",
              "      div.appendChild(a);\n",
              "      a.click();\n",
              "      div.remove();\n",
              "    }\n",
              "  "
            ]
          },
          "metadata": {}
        },
        {
          "output_type": "display_data",
          "data": {
            "text/plain": [
              "<IPython.core.display.Javascript object>"
            ],
            "application/javascript": [
              "download(\"download_cf03f39f-ac8a-4e98-a70f-f093c30fe9d8\", \"tagore-model-10.zip\", 229165281)"
            ]
          },
          "metadata": {}
        }
      ]
    },
    {
      "cell_type": "code",
      "source": [
        ""
      ],
      "metadata": {
        "id": "RE01zL5Cb7ak"
      },
      "execution_count": null,
      "outputs": []
    }
  ]
}